{
 "cells": [
  {
   "cell_type": "code",
   "execution_count": 2,
   "id": "38c62ffe-caa2-4337-bd7f-8e64ab6a139c",
   "metadata": {},
   "outputs": [],
   "source": [
    "import cv2\n",
    "import numpy as np\n",
    "from imgTools import *"
   ]
  },
  {
   "cell_type": "code",
   "execution_count": 25,
   "id": "fb82ef5b-9f29-4e23-bcb3-90a7c7c73c5e",
   "metadata": {},
   "outputs": [],
   "source": [
    "# Tạo 1 ảnh\n",
    "img = np.zeros((400, 400, 3), dtype=np.uint8)\n",
    "display(\"Image\", img)           "
   ]
  },
  {
   "cell_type": "code",
   "execution_count": 26,
   "id": "20970359-e446-4d3f-978e-4b215ce166b9",
   "metadata": {},
   "outputs": [],
   "source": [
    "# Vẽ một đường thẳng\n",
    "cv2.line(img, (50, 50), (350, 50), (166, 110, 56), 2)\n",
    "display(\"Image\", img)"
   ]
  },
  {
   "cell_type": "code",
   "execution_count": 27,
   "id": "45cfa1ca-7cf6-4e86-abc1-c63583473970",
   "metadata": {},
   "outputs": [],
   "source": [
    "# Vẽ 1 hình tròn\n",
    "cv2.circle(img, (100, 100), 50, (255, 173, 96), -1)\n",
    "display(\"Image\", img)"
   ]
  },
  {
   "cell_type": "code",
   "execution_count": 28,
   "id": "9876c3a5-46a1-49ad-a6d3-eff16461aae3",
   "metadata": {},
   "outputs": [],
   "source": [
    "# Vẽ 1 hình chữ nhật\n",
    "cv2.rectangle(img, (100, 100), (300, 300), (255, 238, 173), 2)\n",
    "display(\"Image\", img)"
   ]
  },
  {
   "cell_type": "code",
   "execution_count": 30,
   "id": "e34bce10-38f4-4404-b93e-bce3d8b3748f",
   "metadata": {},
   "outputs": [
    {
     "ename": "error",
     "evalue": "OpenCV(4.10.0) D:\\a\\opencv-python\\opencv-python\\opencv\\modules\\highgui\\src\\window_w32.cpp:1261: error: (-27:Null pointer) NULL window: 'Image' in function 'cvDestroyWindow'\n",
     "output_type": "error",
     "traceback": [
      "\u001b[1;31m---------------------------------------------------------------------------\u001b[0m",
      "\u001b[1;31merror\u001b[0m                                     Traceback (most recent call last)",
      "Cell \u001b[1;32mIn[30], line 5\u001b[0m\n\u001b[0;32m      3\u001b[0m font \u001b[38;5;241m=\u001b[39m cv2\u001b[38;5;241m.\u001b[39mFONT_HERSHEY_SIMPLEX\n\u001b[0;32m      4\u001b[0m cv2\u001b[38;5;241m.\u001b[39mputText(img, content, (\u001b[38;5;241m10\u001b[39m, \u001b[38;5;241m380\u001b[39m), font, \u001b[38;5;241m0.6\u001b[39m, (\u001b[38;5;241m150\u001b[39m, \u001b[38;5;241m206\u001b[39m, \u001b[38;5;241m180\u001b[39m), \u001b[38;5;241m2\u001b[39m)\n\u001b[1;32m----> 5\u001b[0m display(\u001b[38;5;124m\"\u001b[39m\u001b[38;5;124mImage\u001b[39m\u001b[38;5;124m\"\u001b[39m, img)\n",
      "File \u001b[1;32m~\\Desktop\\Learning\\DNTU_ComputerVision\\imgTools.py:74\u001b[0m, in \u001b[0;36mdisplay\u001b[1;34m(title, img)\u001b[0m\n\u001b[0;32m     72\u001b[0m cv2\u001b[38;5;241m.\u001b[39mwaitKey(\u001b[38;5;241m0\u001b[39m)\n\u001b[0;32m     73\u001b[0m \u001b[38;5;66;03m# Đóng window\u001b[39;00m\n\u001b[1;32m---> 74\u001b[0m cv2\u001b[38;5;241m.\u001b[39mdestroyWindow(title)\n",
      "\u001b[1;31merror\u001b[0m: OpenCV(4.10.0) D:\\a\\opencv-python\\opencv-python\\opencv\\modules\\highgui\\src\\window_w32.cpp:1261: error: (-27:Null pointer) NULL window: 'Image' in function 'cvDestroyWindow'\n"
     ]
    }
   ],
   "source": [
    "# Ghi chữ trên hình ảnh\n",
    "content = \"Dao Hoang Nhi\"\n",
    "font = cv2.FONT_HERSHEY_SIMPLEX\n",
    "cv2.putText(img, content, (10, 380), font, 0.6, (150, 206, 180), 2)\n",
    "display(\"Image\", img)"
   ]
  },
  {
   "cell_type": "code",
   "execution_count": null,
   "id": "163d0ae1-4d69-4cc9-bf96-ba71b7bee965",
   "metadata": {},
   "outputs": [],
   "source": []
  }
 ],
 "metadata": {
  "kernelspec": {
   "display_name": "Python 3 (ipykernel)",
   "language": "python",
   "name": "python3"
  },
  "language_info": {
   "codemirror_mode": {
    "name": "ipython",
    "version": 3
   },
   "file_extension": ".py",
   "mimetype": "text/x-python",
   "name": "python",
   "nbconvert_exporter": "python",
   "pygments_lexer": "ipython3",
   "version": "3.12.4"
  }
 },
 "nbformat": 4,
 "nbformat_minor": 5
}
