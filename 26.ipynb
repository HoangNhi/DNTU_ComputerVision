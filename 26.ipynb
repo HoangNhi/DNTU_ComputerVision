{
 "cells": [
  {
   "cell_type": "code",
   "execution_count": 5,
   "id": "d362516c-31fc-49da-8aed-cbae1381137c",
   "metadata": {},
   "outputs": [],
   "source": [
    "import cv2\n",
    "import time\n",
    "from imgTools import *"
   ]
  },
  {
   "cell_type": "code",
   "execution_count": 6,
   "id": "007f5220-3ea3-407f-802c-c193dce8ced3",
   "metadata": {},
   "outputs": [],
   "source": [
    "camera = cv2.VideoCapture(0)\n",
    "# Ghi text trên hình ảnh\n",
    "font = cv2.FONT_HERSHEY_SIMPLEX\n",
    "font_color = (255, 255, 255)\n",
    "font_scale = 2\n",
    "font_thicknes = 2\n",
    "\n",
    "# Tạo cửa sổ để hiển thị\n",
    "cv2.namedWindow(\"Camera\", cv2.WINDOW_NORMAL)"
   ]
  },
  {
   "cell_type": "code",
   "execution_count": 7,
   "id": "659f8d3e-3e6d-4503-9eb8-d31666dd92da",
   "metadata": {},
   "outputs": [],
   "source": [
    "# Hiển thị từng khung ảnh\n",
    "while True:\n",
    "    # Thời gian trước khi đọc\n",
    "    start_time = time.time()\n",
    "    \n",
    "    # Đọc từng khung ảnh 1 (frame)\n",
    "    ret, frame = camera.read()\n",
    "    \n",
    "    # Thoát khỏi vòng lặp white khi không thể đọc được frame nữa\n",
    "    if not ret:\n",
    "        break\n",
    "\n",
    "    #Thời gian trước khi đọc\n",
    "    end_time = time.time()\n",
    "\n",
    "    # Tính FPS:\n",
    "    fps = 1 / (end_time - start_time)\n",
    "\n",
    "     # Detect\n",
    "    frame = detect(frame)\n",
    "    \n",
    "    # Hiển thị FPS\n",
    "    cv2.putText(frame, f'FPS: {fps:.2f}', (100, 100), font, font_scale, font_color , font_thicknes)\n",
    "\n",
    "    # Hiển thị\n",
    "    cv2.imshow(\"Camera\", frame)\n",
    "\n",
    "    if(cv2.waitKey(10) == ord('q')):\n",
    "        break\n",
    "# Hủy bỏ player\n",
    "camera.release\n",
    "cv2.destroyAllWindows()"
   ]
  },
  {
   "cell_type": "code",
   "execution_count": null,
   "id": "2024dd74-abb2-4d21-b811-8a89f69f5368",
   "metadata": {},
   "outputs": [],
   "source": []
  }
 ],
 "metadata": {
  "kernelspec": {
   "display_name": "Python 3 (ipykernel)",
   "language": "python",
   "name": "python3"
  },
  "language_info": {
   "codemirror_mode": {
    "name": "ipython",
    "version": 3
   },
   "file_extension": ".py",
   "mimetype": "text/x-python",
   "name": "python",
   "nbconvert_exporter": "python",
   "pygments_lexer": "ipython3",
   "version": "3.12.4"
  }
 },
 "nbformat": 4,
 "nbformat_minor": 5
}
