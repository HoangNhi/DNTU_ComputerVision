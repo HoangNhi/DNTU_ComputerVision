{
 "cells": [
  {
   "cell_type": "code",
   "execution_count": 1,
   "id": "a7c8addc-35dc-4753-9156-0aab2c051c14",
   "metadata": {},
   "outputs": [],
   "source": [
    "#!pip install opencv-python"
   ]
  },
  {
   "cell_type": "code",
   "execution_count": 2,
   "id": "1dc044b7-6c20-41f6-b3de-835c9dde80fc",
   "metadata": {},
   "outputs": [],
   "source": [
    "#Import thư viện\n",
    "import cv2\n",
    "import imgTools\n",
    "import numpy as np\n",
    "\n",
    "path = \"C:/Users/hoang/Desktop/Image/architecture.jpg\"\n",
    "img = cv2.imread(path)"
   ]
  },
  {
   "cell_type": "code",
   "execution_count": 3,
   "id": "83285753-ad1a-445e-94d2-3c42ae80dc8e",
   "metadata": {},
   "outputs": [
    {
     "name": "stdout",
     "output_type": "stream",
     "text": [
      "[[[ 91  56  23]\n",
      "  [ 91  56  23]\n",
      "  [ 91  56  23]\n",
      "  ...\n",
      "  [105  67  32]\n",
      "  [105  67  32]\n",
      "  [105  67  32]]\n",
      "\n",
      " [[ 91  56  23]\n",
      "  [ 91  56  23]\n",
      "  [ 91  56  23]\n",
      "  ...\n",
      "  [105  67  32]\n",
      "  [105  67  32]\n",
      "  [105  67  32]]\n",
      "\n",
      " [[ 91  56  23]\n",
      "  [ 91  56  23]\n",
      "  [ 91  56  23]\n",
      "  ...\n",
      "  [105  67  32]\n",
      "  [105  67  32]\n",
      "  [105  67  32]]\n",
      "\n",
      " ...\n",
      "\n",
      " [[128 136 149]\n",
      "  [128 136 149]\n",
      "  [128 136 149]\n",
      "  ...\n",
      "  [231 227 226]\n",
      "  [231 227 226]\n",
      "  [232 228 227]]\n",
      "\n",
      " [[128 136 149]\n",
      "  [128 136 149]\n",
      "  [128 136 149]\n",
      "  ...\n",
      "  [231 227 226]\n",
      "  [231 227 226]\n",
      "  [232 228 227]]\n",
      "\n",
      " [[128 136 149]\n",
      "  [128 136 149]\n",
      "  [128 136 149]\n",
      "  ...\n",
      "  [231 227 226]\n",
      "  [231 227 226]\n",
      "  [232 228 227]]]\n"
     ]
    }
   ],
   "source": [
    "#In thông tin của ảnh\n",
    "print(img)"
   ]
  },
  {
   "cell_type": "code",
   "execution_count": 4,
   "id": "65d88e7f-c059-4fc4-a0bb-a5e53b6448d9",
   "metadata": {},
   "outputs": [
    {
     "name": "stdout",
     "output_type": "stream",
     "text": [
      "(846, 564, 3)\n",
      "846\n",
      "564\n",
      "3\n"
     ]
    }
   ],
   "source": [
    "# Hiển thị kích thước hình ảnh\n",
    "print(img.shape)\n",
    "x, y, z = img.shape\n",
    "print(x)\n",
    "print(y)\n",
    "print(z)"
   ]
  },
  {
   "cell_type": "code",
   "execution_count": 5,
   "id": "c50705d7-4c3f-4059-beac-60158b4524c7",
   "metadata": {},
   "outputs": [],
   "source": [
    "#Hiển thị hình ảnh\n",
    "cv2.imshow(\"Animal\", img)\n",
    "#Chờ 1 khoảng thòi gian\n",
    "cv2.waitKey(10000)\n",
    "#Đóng cửa sổ\n",
    "cv2.destroyWindow(\"Animal\")"
   ]
  },
  {
   "cell_type": "code",
   "execution_count": 6,
   "id": "c3737fb7-9ed2-4b00-8ff4-6447188dcdd3",
   "metadata": {},
   "outputs": [],
   "source": [
    "# Tách thành 3 màu\n",
    "# b, g, r = cv2.split(img)\n",
    "# cv2.imshow(\"Window\", img)\n",
    "# cv2.imshow(\"Red\", r)\n",
    "# cv2.imshow(\"Green\", g)\n",
    "# cv2.imshow(\"Blue\", b)\n",
    "\n",
    "# # Chờ một khoản thời gian\n",
    "# cv2.waitKey(0)\n",
    "\n",
    "# # Đóng toàn bộ cửa sổ\n",
    "# cv2.destroyAllWindows()"
   ]
  },
  {
   "cell_type": "code",
   "execution_count": 7,
   "id": "5c654959-b28c-4db3-b393-50efd4b15ec4",
   "metadata": {},
   "outputs": [],
   "source": [
    "# Chuyển ảnh gốc sang ảnh gray\n",
    "gray_img = cv2.cvtColor(img, cv2.COLOR_BGR2GRAY)\n",
    "img_2 = cv2.cvtColor(img, cv2.COLOR_BGR2RGB)\n",
    "cv2.imshow(\"Ảnh gốc\", img)\n",
    "cv2.imshow(\"Ảnh xám\", gray_img)\n",
    "cv2.imshow(\"Ảnh âm bản\", img_2)\n",
    "\n",
    "# Chờ một khoản thời gian\n",
    "cv2.waitKey(0)\n",
    "\n",
    "# Đóng toàn bộ cửa sổ\n",
    "cv2.destroyAllWindows()"
   ]
  },
  {
   "cell_type": "code",
   "execution_count": 8,
   "id": "a794a6de-34fa-4da7-8fae-cb1160e737c7",
   "metadata": {},
   "outputs": [],
   "source": [
    "# Thay đổi thông số điểm ảnh\n",
    "height, width, z = img.shape\n",
    "quater_h = height/2\n",
    "quater_w = width/2\n",
    "\n",
    "# Gradient color\n",
    "green_color = (0, 255, 0)\n",
    "\n",
    "#Copy ảnh\n",
    "img2 = img.copy()\n",
    "\n",
    "# Thay đổi màu của gốc 1/4 bên trái\n",
    "for y in range(int(quater_h)):\n",
    "    for x in range(int(quater_w)):\n",
    "        img2[y, x] = green_color\n",
    "\n",
    "# Bước 5: Hiển thị ảnh\n",
    "cv2.imshow('Green (1/4 area)', img2)\n",
    "cv2.waitKey(0)\n",
    "cv2.destroyAllWindows()"
   ]
  },
  {
   "cell_type": "code",
   "execution_count": 9,
   "id": "fa5bf995-c625-4ec1-80e1-cfaf218fac19",
   "metadata": {},
   "outputs": [],
   "source": [
    "# Thay đổi thông số điểm ảnh 1/4 góc trên bên trên của tấm hình\n",
    "height, width, z = img.shape\n",
    "quater_h = height//2\n",
    "quater_w = width//2\n",
    "\n",
    "#Copy ảnh\n",
    "img2 = img.copy()\n",
    "\n",
    "# Gradient color\n",
    "gradient = np.zeros_like(img2, dtype=np.uint8)\n",
    "\n",
    "# Thay đổi màu của gốc 1/4 bên trái\n",
    "for i in range(quater_w):  # Giới hạn trong 1/4 chiều ngang\n",
    "    alpha = i / quater_w  # Tính tỷ lệ theo vị trí trong 1/4 chiều ngang\n",
    "    color = (232 * (1 - alpha), 219, 252  * alpha)  # Tạo màu theo tỷ lệ\n",
    "    gradient[:quater_h, i, :] = color  # Gán màu cho các cột trong 1/4 khu vực\n",
    "\n",
    "# Bước 4: Trộn gradient với ảnh\n",
    "blended_image = img2.copy()\n",
    "blended_image[:quater_h, :quater_w] = cv2.addWeighted(\n",
    "    img2[:quater_h, :quater_w], 0.5, \n",
    "    gradient[:quater_h, :quater_w], 0.5, 0\n",
    ")\n",
    "\n",
    "# Bước 5: Hiển thị ảnh\n",
    "cv2.imshow('Gradient Image (1/4 area)', blended_image)\n",
    "cv2.waitKey(0)\n",
    "cv2.destroyAllWindows()"
   ]
  },
  {
   "cell_type": "code",
   "execution_count": 10,
   "id": "550ca6fd-7616-44ee-98f2-916762096982",
   "metadata": {},
   "outputs": [],
   "source": [
    "# Thay đổi thông số điểm ảnh toàn bộ tấm hình\n",
    "height, width, z = img.shape\n",
    "quater_h = height//2\n",
    "quater_w = width//2\n",
    "\n",
    "#Copy ảnh\n",
    "img2 = img.copy()\n",
    "\n",
    "# Gradient color\n",
    "gradient = np.zeros_like(img2, dtype=np.uint8)\n",
    "\n",
    "# Màu gradient từ #e8dbfc (RGB: 232, 219, 252) đến #f8f9d2 (RGB: 248, 249, 210)\n",
    "start_color = np.array([252, 219, 232]) \n",
    "end_color = np.array([210, 249, 248]) \n",
    "\n",
    "for i in range(width):\n",
    "    alpha = i / width  # Tính tỷ lệ giữa vị trí hiện tại và chiều rộng\n",
    "    color = start_color * (1 - alpha) + end_color * alpha  # Tạo màu theo tỷ lệ\n",
    "    gradient[:, i, :] = color  # Gán màu cho cột hiện tại\n",
    "\n",
    "blended_image = cv2.addWeighted(img2, 0.5, gradient, 0.5, 0)\n",
    "\n",
    "cv2.imshow('Gradient Image', blended_image)\n",
    "cv2.waitKey(0)\n",
    "cv2.destroyAllWindows()"
   ]
  }
 ],
 "metadata": {
  "kernelspec": {
   "display_name": "Python 3 (ipykernel)",
   "language": "python",
   "name": "python3"
  },
  "language_info": {
   "codemirror_mode": {
    "name": "ipython",
    "version": 3
   },
   "file_extension": ".py",
   "mimetype": "text/x-python",
   "name": "python",
   "nbconvert_exporter": "python",
   "pygments_lexer": "ipython3",
   "version": "3.12.4"
  }
 },
 "nbformat": 4,
 "nbformat_minor": 5
}
