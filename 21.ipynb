{
 "cells": [
  {
   "cell_type": "code",
   "execution_count": 1,
   "id": "d362516c-31fc-49da-8aed-cbae1381137c",
   "metadata": {},
   "outputs": [],
   "source": [
    "import cv2\n",
    "\n",
    "my_video = cv2.VideoCapture(\"C:/Users/hoang/Desktop/Video/sunset.mp4\")"
   ]
  },
  {
   "cell_type": "code",
   "execution_count": 2,
   "id": "8a902cae-797e-4e75-ae02-9b4d1683421d",
   "metadata": {},
   "outputs": [],
   "source": [
    "# Tạo cửa sổ để hiển thị\n",
    "cv2.namedWindow(\"Sunset video player\", cv2.WINDOW_NORMAL)"
   ]
  },
  {
   "cell_type": "code",
   "execution_count": 4,
   "id": "3f14c6dc-3d16-4d91-9454-fab1e341de89",
   "metadata": {},
   "outputs": [],
   "source": [
    "# Hiển thị từng khung ảnh\n",
    "while True:\n",
    "    # Đọc từng khung ảnh 1 (frame)\n",
    "    ret, frame = my_video.read()\n",
    "\n",
    "    # Thoát khỏi vòng lặp white khi không thể đọc được frame nữa\n",
    "    if not ret:\n",
    "        break\n",
    "\n",
    "    # Hiển thị\n",
    "    cv2.imshow(\"Sunset video player\", frame)\n",
    "\n",
    "    if(cv2.waitKey(10) == ord('q')):\n",
    "        break\n",
    "\n",
    "# Hủy bỏ player\n",
    "my_video.release\n",
    "cv2.destroyAllWindows()"
   ]
  },
  {
   "cell_type": "code",
   "execution_count": null,
   "id": "274b4bb6-f923-414f-848a-875643552e98",
   "metadata": {},
   "outputs": [],
   "source": []
  }
 ],
 "metadata": {
  "kernelspec": {
   "display_name": "Python 3 (ipykernel)",
   "language": "python",
   "name": "python3"
  },
  "language_info": {
   "codemirror_mode": {
    "name": "ipython",
    "version": 3
   },
   "file_extension": ".py",
   "mimetype": "text/x-python",
   "name": "python",
   "nbconvert_exporter": "python",
   "pygments_lexer": "ipython3",
   "version": "3.12.4"
  }
 },
 "nbformat": 4,
 "nbformat_minor": 5
}
