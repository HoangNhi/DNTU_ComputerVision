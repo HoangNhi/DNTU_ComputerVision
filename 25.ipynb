{
 "cells": [
  {
   "cell_type": "code",
   "execution_count": 1,
   "id": "d362516c-31fc-49da-8aed-cbae1381137c",
   "metadata": {},
   "outputs": [],
   "source": [
    "import cv2\n",
    "import time\n",
    "from imgTools import *"
   ]
  },
  {
   "cell_type": "code",
   "execution_count": 2,
   "id": "103f70bb-ae17-4d85-bbe4-b5e1ee89b3e9",
   "metadata": {},
   "outputs": [],
   "source": [
    "#Gọi file Face Cascade\n",
    "face_cascade = cv2.CascadeClassifier('./FaceCascade/haarcascade_frontalface_default.xml')\n",
    "eye_cascade = cv2.CascadeClassifier('./FaceCascade/haarcascade_eye_tree_eyeglasses.xml')"
   ]
  },
  {
   "cell_type": "code",
   "execution_count": 3,
   "id": "007f5220-3ea3-407f-802c-c193dce8ced3",
   "metadata": {},
   "outputs": [],
   "source": [
    "# Đọc ảnh\n",
    "img = cv2.imread('C:/Users/hoang/Desktop/Image/People.jpg')\n",
    "\n",
    "# Chuyển sang ảnh xám\n",
    "gray = cv2.cvtColor(img, cv2.COLOR_BGR2GRAY)\n",
    "\n",
    "\n",
    "# Nhận diện khuôn mặt\n",
    "faces = face_cascade.detectMultiScale(gray, scaleFactor=1.1, minNeighbors=5, minSize=(30,30))\n",
    "\n",
    "# Nhận diện mắt\n",
    "eyes = eye_cascade.detectMultiScale(gray, scaleFactor=1.1, minNeighbors=10, minSize=(5,5))\n",
    "\n",
    "\n",
    "# Vẽ hộp chứa khuôn mặt\n",
    "for (x, y, w, h) in faces:\n",
    "    cv2.rectangle(img, (x, y), (x+w, y+h), (0, 255,0), 2)\n",
    "\n",
    "\n",
    "# Vẽ hộp chứa khuôn mặt\n",
    "for (x, y, w, h) in eyes:\n",
    "    cv2.rectangle(img, (x, y), (x+w, y+h), (255, 0,0), 2)\n",
    "\n",
    "# Hiển thị hình ảnh\n",
    "display(\"Face: \", img)"
   ]
  },
  {
   "cell_type": "code",
   "execution_count": null,
   "id": "05beadbd-be44-4510-8b59-cf454540b4a1",
   "metadata": {},
   "outputs": [],
   "source": []
  }
 ],
 "metadata": {
  "kernelspec": {
   "display_name": "Python 3 (ipykernel)",
   "language": "python",
   "name": "python3"
  },
  "language_info": {
   "codemirror_mode": {
    "name": "ipython",
    "version": 3
   },
   "file_extension": ".py",
   "mimetype": "text/x-python",
   "name": "python",
   "nbconvert_exporter": "python",
   "pygments_lexer": "ipython3",
   "version": "3.12.4"
  }
 },
 "nbformat": 4,
 "nbformat_minor": 5
}
