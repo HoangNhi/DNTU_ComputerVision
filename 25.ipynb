{
 "cells": [
  {
   "cell_type": "code",
   "execution_count": 5,
   "id": "d362516c-31fc-49da-8aed-cbae1381137c",
   "metadata": {},
   "outputs": [],
   "source": [
    "import cv2\n",
    "import time\n",
    "from imgTools import *"
   ]
  },
  {
   "cell_type": "code",
   "execution_count": null,
   "id": "103f70bb-ae17-4d85-bbe4-b5e1ee89b3e9",
   "metadata": {},
   "outputs": [],
   "source": [
    "#Gọi file Face Cascade\n",
    "face_cascade = cv2.CascadeClassifier('./FaceCascade/haarcascade_frontalface_default.xml')\n",
    "eye_cascade = cv2.CascadeClassifier('./FaceCascade/haarcascade_eye_tree_eyeglasses.xml')"
   ]
  },
  {
   "cell_type": "code",
   "execution_count": 13,
   "id": "007f5220-3ea3-407f-802c-c193dce8ced3",
   "metadata": {},
   "outputs": [
    {
     "ename": "error",
     "evalue": "OpenCV(4.10.0) D:\\a\\opencv-python\\opencv-python\\opencv\\modules\\highgui\\src\\window_w32.cpp:1261: error: (-27:Null pointer) NULL window: 'Face: ' in function 'cvDestroyWindow'\n",
     "output_type": "error",
     "traceback": [
      "\u001b[1;31m---------------------------------------------------------------------------\u001b[0m",
      "\u001b[1;31merror\u001b[0m                                     Traceback (most recent call last)",
      "Cell \u001b[1;32mIn[13], line 25\u001b[0m\n\u001b[0;32m     22\u001b[0m     cv2\u001b[38;5;241m.\u001b[39mrectangle(img, (x, y), (x\u001b[38;5;241m+\u001b[39mw, y\u001b[38;5;241m+\u001b[39mh), (\u001b[38;5;241m255\u001b[39m, \u001b[38;5;241m0\u001b[39m,\u001b[38;5;241m0\u001b[39m), \u001b[38;5;241m2\u001b[39m)\n\u001b[0;32m     24\u001b[0m \u001b[38;5;66;03m# Hiển thị hình ảnh\u001b[39;00m\n\u001b[1;32m---> 25\u001b[0m display(\u001b[38;5;124m\"\u001b[39m\u001b[38;5;124mFace: \u001b[39m\u001b[38;5;124m\"\u001b[39m, img)\n",
      "File \u001b[1;32m~\\Desktop\\Learning\\DNTU_ComputerVision\\imgTools.py:74\u001b[0m, in \u001b[0;36mdisplay\u001b[1;34m(title, img)\u001b[0m\n\u001b[0;32m     72\u001b[0m     cv2.waitKey(0)\n\u001b[0;32m     73\u001b[0m     # Đóng window\n\u001b[1;32m---> 74\u001b[0m     cv2.destroyWindow(title)\n\u001b[0;32m     75\u001b[0m \n\u001b[0;32m     76\u001b[0m # Detect Image\n",
      "\u001b[1;31merror\u001b[0m: OpenCV(4.10.0) D:\\a\\opencv-python\\opencv-python\\opencv\\modules\\highgui\\src\\window_w32.cpp:1261: error: (-27:Null pointer) NULL window: 'Face: ' in function 'cvDestroyWindow'\n"
     ]
    }
   ],
   "source": [
    "# Đọc ảnh\n",
    "img = cv2.imread('C:/Users/hoang/Desktop/Image/People.jpg')\n",
    "\n",
    "# Chuyển sang ảnh xám\n",
    "gray = cv2.cvtColor(img, cv2.COLOR_BGR2GRAY)\n",
    "\n",
    "\n",
    "# Nhận diện khuôn mặt\n",
    "faces = face_cascade.detectMultiScale(gray, scaleFactor=1.1, minNeighbors=5, minSize=(30,30))\n",
    "\n",
    "# Nhận diện mắt\n",
    "eyes = eye_cascade.detectMultiScale(gray, scaleFactor=1.1, minNeighbors=10, minSize=(5,5))\n",
    "\n",
    "\n",
    "# Vẽ hộp chứa khuôn mặt\n",
    "for (x, y, w, h) in faces:\n",
    "    cv2.rectangle(img, (x, y), (x+w, y+h), (0, 255,0), 2)\n",
    "\n",
    "\n",
    "# Vẽ hộp chứa khuôn mặt\n",
    "for (x, y, w, h) in eyes:\n",
    "    cv2.rectangle(img, (x, y), (x+w, y+h), (255, 0,0), 2)\n",
    "\n",
    "# Hiển thị hình ảnh\n",
    "display(\"Face: \", img)"
   ]
  },
  {
   "cell_type": "code",
   "execution_count": null,
   "id": "05beadbd-be44-4510-8b59-cf454540b4a1",
   "metadata": {},
   "outputs": [],
   "source": []
  }
 ],
 "metadata": {
  "kernelspec": {
   "display_name": "Python 3 (ipykernel)",
   "language": "python",
   "name": "python3"
  },
  "language_info": {
   "codemirror_mode": {
    "name": "ipython",
    "version": 3
   },
   "file_extension": ".py",
   "mimetype": "text/x-python",
   "name": "python",
   "nbconvert_exporter": "python",
   "pygments_lexer": "ipython3",
   "version": "3.12.4"
  }
 },
 "nbformat": 4,
 "nbformat_minor": 5
}
