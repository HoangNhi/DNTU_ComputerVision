{
 "cells": [
  {
   "cell_type": "code",
   "execution_count": 4,
   "id": "4493dc6e-4201-4b92-be53-d62940702ca8",
   "metadata": {},
   "outputs": [],
   "source": [
    "#!pip install scipy"
   ]
  },
  {
   "cell_type": "code",
   "execution_count": 8,
   "id": "1f0130fb-8381-4703-a918-5e6a9154be9e",
   "metadata": {},
   "outputs": [],
   "source": [
    "from scipy import linalg #Giải bài tập phương trình tuyến tính\n",
    "import numpy as np"
   ]
  },
  {
   "cell_type": "code",
   "execution_count": 13,
   "id": "cdb1f09c-4307-4020-80de-4e6aa793e328",
   "metadata": {},
   "outputs": [
    {
     "name": "stdout",
     "output_type": "stream",
     "text": [
      "[ 3. -1.]\n"
     ]
    }
   ],
   "source": [
    "# Định nghĩa hệ phương trình tuyến tính\n",
    "A = np.array([[2, 1], [3, 2]])\n",
    "B = np.array([5, 7])\n",
    "\n",
    "# Giải hệ phương trình tuyến tính\n",
    "x = linalg.solve(A, B)\n",
    "print(x)"
   ]
  },
  {
   "cell_type": "code",
   "execution_count": 24,
   "id": "7a29895a-4c69-4ef1-b660-3ba9d2595e57",
   "metadata": {},
   "outputs": [
    {
     "name": "stdout",
     "output_type": "stream",
     "text": [
      "Tích phân f(x) từ 0 đến 1:  (2.0, 2.220446049250313e-14)\n"
     ]
    }
   ],
   "source": [
    "# Tính tích phân của một hàm số\n",
    "from scipy import integrate # Thư viện tính tích phân\n",
    "\n",
    "# Định nghĩa f(x) = x^2\n",
    "# def my_function(x):\n",
    "#    return x**2\n",
    "\n",
    "# Định nghĩa hàm f(x) = sin(x)\n",
    "def my_function(x):\n",
    "    return np.sin(x)\n",
    "\n",
    "# Tính tích phân của f(x) từ 0 đến Pi\n",
    "integral = integrate.quad(my_function, 0, np.pi)\n",
    "# Kết quả là giá trị tích phân và sai số (rất nhỏ)\n",
    "print(\"Tích phân f(x) từ 0 đến 1: \", integral)"
   ]
  },
  {
   "cell_type": "code",
   "execution_count": 23,
   "id": "692fb5c3-e6aa-4977-ab5d-216227ba665f",
   "metadata": {},
   "outputs": [
    {
     "name": "stdout",
     "output_type": "stream",
     "text": [
      "Giá trị riêng:  [3.+0.j 1.+0.j]\n",
      "Vector riêng:  [[ 0.70710678 -0.70710678]\n",
      " [ 0.70710678  0.70710678]]\n"
     ]
    }
   ],
   "source": [
    "# Tính giá trị riêng và vector riêng của 1 ma trận\n",
    "A = np.array([[2, 1], [1, 2]])\n",
    "\n",
    "# Tính giá trị riêng và vector riêng của ma trân\n",
    "evals, evecs = linalg.eig(A)\n",
    "\n",
    "print(\"Giá trị riêng: \", evals)\n",
    "print(\"Vector riêng: \", evecs)"
   ]
  }
 ],
 "metadata": {
  "kernelspec": {
   "display_name": "Python 3 (ipykernel)",
   "language": "python",
   "name": "python3"
  },
  "language_info": {
   "codemirror_mode": {
    "name": "ipython",
    "version": 3
   },
   "file_extension": ".py",
   "mimetype": "text/x-python",
   "name": "python",
   "nbconvert_exporter": "python",
   "pygments_lexer": "ipython3",
   "version": "3.12.4"
  }
 },
 "nbformat": 4,
 "nbformat_minor": 5
}
