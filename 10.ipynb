{
 "cells": [
  {
   "cell_type": "code",
   "execution_count": 9,
   "id": "935c15ce-ca49-4c4f-9669-7e9ce3f6e3a0",
   "metadata": {},
   "outputs": [],
   "source": [
    "# Lấy ra 1 điểm ảnh thông qua con trả chuột\n",
    "from PIL import Image\n",
    "import matplotlib.pyplot as plt"
   ]
  },
  {
   "cell_type": "code",
   "execution_count": 5,
   "id": "1f529a2f-3ec7-423a-a94c-edc80a38d947",
   "metadata": {},
   "outputs": [
    {
     "name": "stdout",
     "output_type": "stream",
     "text": [
      "[(143.13870967741934, 132.89999999999998), (183.5, 132.89999999999998), (306.958064516129, 130.52580645161288), (346.1322580645161, 155.4548387096774), (255.91290322580647, 178.00967741935483)]\n"
     ]
    }
   ],
   "source": [
    "my_path = 'C:/Users/hoang/Desktop/Image/MyRoom.jpg'\n",
    "img = Image.open(my_path)\n",
    "\n",
    "# Chuyển đổi backend\n",
    "plt.switch_backend(\"tkagg\")\n",
    "\n",
    "plt.imshow(img)\n",
    "plt.title(\"Click on the Image to select points\")\n",
    "\n",
    "# Sử dụng hàm ginput để chọn điểm trên anh\n",
    "points = plt.ginput(5)\n",
    "\n",
    "print(points)\n",
    "\n",
    "plt.show()"
   ]
  },
  {
   "cell_type": "code",
   "execution_count": 10,
   "id": "4369d355-7a2a-472a-9c40-f4dbdcfe1c44",
   "metadata": {},
   "outputs": [],
   "source": [
    "# Vẽ lại các điểm đã chọn bằng dấu * màu đỏ\n",
    "plt.close()\n",
    "\n",
    "#Vẽ lại\n",
    "plt.imshow(img)\n",
    "for point in points:\n",
    "    x, y = point\n",
    "    plt.plot(x, y, \"r*\")\n",
    "plt.show()"
   ]
  },
  {
   "cell_type": "code",
   "execution_count": null,
   "id": "815e3bf3-d89a-46ff-94f5-bcdd03aa6476",
   "metadata": {},
   "outputs": [],
   "source": []
  }
 ],
 "metadata": {
  "kernelspec": {
   "display_name": "Python 3 (ipykernel)",
   "language": "python",
   "name": "python3"
  },
  "language_info": {
   "codemirror_mode": {
    "name": "ipython",
    "version": 3
   },
   "file_extension": ".py",
   "mimetype": "text/x-python",
   "name": "python",
   "nbconvert_exporter": "python",
   "pygments_lexer": "ipython3",
   "version": "3.12.4"
  }
 },
 "nbformat": 4,
 "nbformat_minor": 5
}
