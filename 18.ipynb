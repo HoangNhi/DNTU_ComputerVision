{
 "cells": [
  {
   "cell_type": "code",
   "execution_count": 12,
   "id": "b1d55b50-5a1d-4a40-8619-443970e09e38",
   "metadata": {},
   "outputs": [],
   "source": [
    "from scipy import ndimage\n",
    "import numpy as np\n",
    "from PIL import Image\n",
    "import matplotlib.pyplot as plt\n",
    "from imgTools import *"
   ]
  },
  {
   "cell_type": "code",
   "execution_count": 27,
   "id": "5cb11d3f-67ef-4a34-a6ac-93dded72df92",
   "metadata": {},
   "outputs": [],
   "source": [
    "# Đọc ảnh\n",
    "image_path = 'C:/Users/hoang/Desktop/Image/starts.jpg'\n",
    "image = Image.open(image_path)"
   ]
  },
  {
   "cell_type": "code",
   "execution_count": null,
   "id": "1f26f6f5-e224-4d20-9bc6-aa37dd2a3991",
   "metadata": {},
   "outputs": [],
   "source": [
    "\n",
    "# Chuyển sang ảnh xám\n",
    "gray_image = image.convert('L')\n",
    "\n",
    "image_array = np.array(gray_image)\n",
    "\n",
    "# Chuyển sang ảnh nhị phân\n",
    "binary_image = 1*(image_array<200)\n",
    "\n",
    "# Thực hiện opening để loại bỏ nhiễu và nối các đối tượng\n",
    "opened_image = ndimage.binary_opening(binary_image, structure=np.ones((3,3)))\n",
    "closed_image = ndimage.binary_closing(opened_image, structure=np.ones((5,5)))\n",
    "\n",
    "# Đánh nhãn\n",
    "labeled_image, num_features = ndimage.label(closed_image)\n",
    "\n",
    "# Tạo lưới subplot với 4 dòng và 1 cột\n",
    "fig, axs = plt.subplots(5, 1, figsize=(50, 50))\n",
    "\n",
    "plt.subplot(5,1,1)\n",
    "plt.imshow(gray_image, cmap='gray')\n",
    "plt.title(\"Ảnh xám\")\n",
    "\n",
    "plt.subplot(5,1,2)\n",
    "plt.imshow(binary_image, cmap='gray')\n",
    "plt.title(\"Ảnh nhị phân\")\n",
    "                                      \n",
    "plt.subplot(5,1,3)\n",
    "plt.imshow(opened_image, cmap='gray')\n",
    "plt.title(\"Ảnh sau opening\")\n",
    "\n",
    "plt.subplot(5,1,4)\n",
    "plt.imshow(closed_image, cmap='gray')\n",
    "plt.title(\"Ảnh sau closing\")\n",
    "\n",
    "plt.subplot(5,1,5)\n",
    "plt.imshow(labeled_image, cmap='gray')\n",
    "plt.title(f\"Đã đánh nhãn ({num_features} đối tượng)\")\n",
    "\n",
    "plt.show();"
   ]
  },
  {
   "cell_type": "code",
   "execution_count": null,
   "id": "25eb3462-5c84-41ac-8ed7-364f3a7d2dc1",
   "metadata": {},
   "outputs": [],
   "source": []
  }
 ],
 "metadata": {
  "kernelspec": {
   "display_name": "Python 3 (ipykernel)",
   "language": "python",
   "name": "python3"
  },
  "language_info": {
   "codemirror_mode": {
    "name": "ipython",
    "version": 3
   },
   "file_extension": ".py",
   "mimetype": "text/x-python",
   "name": "python",
   "nbconvert_exporter": "python",
   "pygments_lexer": "ipython3",
   "version": "3.12.4"
  }
 },
 "nbformat": 4,
 "nbformat_minor": 5
}
