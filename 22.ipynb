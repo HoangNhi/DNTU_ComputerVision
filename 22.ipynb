{
 "cells": [
  {
   "cell_type": "code",
   "execution_count": 1,
   "id": "d362516c-31fc-49da-8aed-cbae1381137c",
   "metadata": {},
   "outputs": [],
   "source": [
    "import cv2\n",
    "import time\n",
    "\n",
    "my_video = cv2.VideoCapture(\"C:/Users/hoang/Desktop/Video/sunset.mp4\")"
   ]
  },
  {
   "cell_type": "code",
   "execution_count": 2,
   "id": "007f5220-3ea3-407f-802c-c193dce8ced3",
   "metadata": {},
   "outputs": [],
   "source": [
    "# Ghi text trên hình ảnh\n",
    "font = cv2.FONT_HERSHEY_SIMPLEX\n",
    "font_color = (255, 255, 255)\n",
    "font_scale = 2\n",
    "font_thicknes = 2\n",
    "\n",
    "# Tạo cửa sổ để hiển thị\n",
    "cv2.namedWindow(\"Sunset video player\", cv2.WINDOW_NORMAL)"
   ]
  },
  {
   "cell_type": "code",
   "execution_count": 3,
   "id": "3f14c6dc-3d16-4d91-9454-fab1e341de89",
   "metadata": {},
   "outputs": [],
   "source": [
    "# Hiển thị từng khung ảnh\n",
    "while True:\n",
    "    # Thời gian trước khi đọc\n",
    "    start_time = time.time()\n",
    "    \n",
    "    # Đọc từng khung ảnh 1 (frame)\n",
    "    ret, frame = my_video.read()\n",
    "    # Thoát khỏi vòng lặp white khi không thể đọc được frame nữa\n",
    "    if not ret:\n",
    "        break\n",
    "\n",
    "    #Thời gian trước khi đọc\n",
    "    end_time = time.time()\n",
    "\n",
    "    # Tính FPS:\n",
    "    fps = 1 / (end_time - start_time)\n",
    "\n",
    "    # Hiển thị FPS\n",
    "    cv2.putText(frame, f'FPS: {fps:.2f}', (100, 100), font, font_scale, font_color , font_thicknes)\n",
    "\n",
    "    # Hiển thị\n",
    "    cv2.imshow(\"Sunset video player\", frame)\n",
    "\n",
    "    if(cv2.waitKey(10) == ord('q')):\n",
    "        break"
   ]
  },
  {
   "cell_type": "code",
   "execution_count": 4,
   "id": "f422ed11-3294-415c-a0fd-d1eed252d14f",
   "metadata": {},
   "outputs": [],
   "source": [
    "# Hủy bỏ player\n",
    "my_video.release\n",
    "cv2.destroyAllWindows()"
   ]
  },
  {
   "cell_type": "code",
   "execution_count": null,
   "id": "251fee73-9094-478c-9923-d05dcde87376",
   "metadata": {},
   "outputs": [],
   "source": []
  }
 ],
 "metadata": {
  "kernelspec": {
   "display_name": "Python 3 (ipykernel)",
   "language": "python",
   "name": "python3"
  },
  "language_info": {
   "codemirror_mode": {
    "name": "ipython",
    "version": 3
   },
   "file_extension": ".py",
   "mimetype": "text/x-python",
   "name": "python",
   "nbconvert_exporter": "python",
   "pygments_lexer": "ipython3",
   "version": "3.12.4"
  }
 },
 "nbformat": 4,
 "nbformat_minor": 5
}
